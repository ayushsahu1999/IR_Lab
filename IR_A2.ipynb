{
  "cells": [
    {
      "cell_type": "code",
      "execution_count": null,
      "metadata": {
        "id": "QnehHZgfjzEo"
      },
      "outputs": [],
      "source": [
        "from google.colab import drive\n",
        "from nltk.corpus import stopwords\n",
        "from nltk.corpus import gutenberg\n",
        "from collections import defaultdict\n",
        "import nltk\n",
        "from nltk.stem.porter import PorterStemmer\n",
        "import heapq\n",
        "\n",
        "porter = PorterStemmer()"
      ]
    },
    {
      "cell_type": "code",
      "execution_count": null,
      "metadata": {
        "colab": {
          "base_uri": "https://localhost:8080/"
        },
        "id": "o1K1fkVNr1S4",
        "outputId": "927beef8-bc90-4e26-a7f2-b1cef6d5313a"
      },
      "outputs": [
        {
          "name": "stdout",
          "output_type": "stream",
          "text": [
            "[nltk_data] Downloading package stopwords to /root/nltk_data...\n",
            "[nltk_data]   Unzipping corpora/stopwords.zip.\n"
          ]
        }
      ],
      "source": [
        "nltk.download('stopwords')\n",
        "stop_words = stopwords.words('english')"
      ]
    },
    {
      "cell_type": "code",
      "execution_count": null,
      "metadata": {
        "colab": {
          "base_uri": "https://localhost:8080/"
        },
        "id": "xtcNclS4ga_7",
        "outputId": "670a4d89-7a6f-49b3-fcda-3a5a4a81a0a6"
      },
      "outputs": [
        {
          "name": "stdout",
          "output_type": "stream",
          "text": [
            "[nltk_data] Downloading package gutenberg to /root/nltk_data...\n",
            "[nltk_data]   Unzipping corpora/gutenberg.zip.\n"
          ]
        },
        {
          "data": {
            "text/plain": [
              "True"
            ]
          },
          "execution_count": 12,
          "metadata": {},
          "output_type": "execute_result"
        }
      ],
      "source": [
        "nltk.download('gutenberg')"
      ]
    },
    {
      "cell_type": "code",
      "execution_count": null,
      "metadata": {
        "id": "RiTEIuHHsH6-"
      },
      "outputs": [],
      "source": [
        "import re\n",
        "def remove_symbols(line):\n",
        "  return re.sub('[^A-Za-z0-9/s]+', '', line).lower()"
      ]
    },
    {
      "cell_type": "code",
      "execution_count": null,
      "metadata": {
        "colab": {
          "base_uri": "https://localhost:8080/"
        },
        "id": "y60J4ipdsoQQ",
        "outputId": "9ffcc66f-9d25-42d1-8c57-abb260bd3d84"
      },
      "outputs": [
        {
          "name": "stdout",
          "output_type": "stream",
          "text": [
            "Drive already mounted at /content/drive; to attempt to forcibly remount, call drive.mount(\"/content/drive\", force_remount=True).\n"
          ]
        }
      ],
      "source": [
        "drive.mount('/content/drive')"
      ]
    },
    {
      "cell_type": "code",
      "execution_count": null,
      "metadata": {
        "colab": {
          "base_uri": "https://localhost:8080/"
        },
        "id": "LrcS0kPZstst",
        "outputId": "3d46683e-e03e-4dc2-b6fc-3e10d32db3eb"
      },
      "outputs": [
        {
          "data": {
            "text/plain": [
              "9223372036854775807"
            ]
          },
          "execution_count": 15,
          "metadata": {},
          "output_type": "execute_result"
        }
      ],
      "source": [
        "import csv, sys\n",
        "\n",
        "csv.field_size_limit(sys.maxsize)"
      ]
    },
    {
      "cell_type": "code",
      "execution_count": null,
      "metadata": {
        "colab": {
          "base_uri": "https://localhost:8080/"
        },
        "id": "-mn1CIUruQFZ",
        "outputId": "c4995cda-bcd2-4ab4-ccaf-6b95d770b17d"
      },
      "outputs": [
        {
          "name": "stdout",
          "output_type": "stream",
          "text": [
            "/content/drive/MyDrive/gutenberg\n"
          ]
        }
      ],
      "source": [
        "% cd /content/drive/MyDrive/gutenberg/"
      ]
    },
    {
      "cell_type": "code",
      "execution_count": null,
      "metadata": {
        "colab": {
          "base_uri": "https://localhost:8080/"
        },
        "id": "qNFM34HtEFCr",
        "outputId": "009d3e1a-47d9-4f9b-d6e4-a32bfff8440b"
      },
      "outputs": [
        {
          "name": "stdout",
          "output_type": "stream",
          "text": [
            "gutenberg_data.csv\n"
          ]
        }
      ],
      "source": [
        "!ls"
      ]
    },
    {
      "cell_type": "code",
      "execution_count": null,
      "metadata": {
        "id": "FxBS9mMluYtr"
      },
      "outputs": [],
      "source": [
        "BLOCK_SIZE = 100000"
      ]
    },
    {
      "cell_type": "code",
      "execution_count": null,
      "metadata": {
        "colab": {
          "background_save": true,
          "base_uri": "https://localhost:8080/"
        },
        "id": "M_qkzLE3ug4i",
        "outputId": "6535824e-d0c6-485d-b7a0-3d9c0c2b37ec"
      },
      "outputs": [
        {
          "name": "stdout",
          "output_type": "stream",
          "text": [
            "15  rows done!\n",
            "23  rows done!\n",
            "41  rows done!\n",
            "54  rows done!\n",
            "67  rows done!\n",
            "81  rows done!\n",
            "96  rows done!\n",
            "116  rows done!\n",
            "130  rows done!\n",
            "146  rows done!\n",
            "157  rows done!\n",
            "180  rows done!\n",
            "207  rows done!\n",
            "220  rows done!\n",
            "254  rows done!\n",
            "271  rows done!\n",
            "280  rows done!\n",
            "291  rows done!\n",
            "302  rows done!\n",
            "332  rows done!\n",
            "353  rows done!\n",
            "371  rows done!\n",
            "387  rows done!\n",
            "400  rows done!\n",
            "444  rows done!\n",
            "456  rows done!\n",
            "468  rows done!\n",
            "476  rows done!\n",
            "488  rows done!\n",
            "499  rows done!\n",
            "506  rows done!\n",
            "509  rows done!\n",
            "518  rows done!\n",
            "526  rows done!\n",
            "533  rows done!\n",
            "541  rows done!\n",
            "548  rows done!\n",
            "564  rows done!\n",
            "590  rows done!\n",
            "606  rows done!\n",
            "616  rows done!\n",
            "627  rows done!\n",
            "634  rows done!\n",
            "641  rows done!\n",
            "649  rows done!\n",
            "660  rows done!\n",
            "677  rows done!\n",
            "685  rows done!\n",
            "692  rows done!\n",
            "702  rows done!\n",
            "717  rows done!\n",
            "730  rows done!\n",
            "740  rows done!\n",
            "748  rows done!\n",
            "757  rows done!\n",
            "762  rows done!\n",
            "772  rows done!\n",
            "779  rows done!\n",
            "788  rows done!\n",
            "796  rows done!\n",
            "804  rows done!\n",
            "816  rows done!\n",
            "828  rows done!\n",
            "839  rows done!\n",
            "848  rows done!\n",
            "857  rows done!\n",
            "866  rows done!\n",
            "874  rows done!\n",
            "885  rows done!\n",
            "894  rows done!\n",
            "905  rows done!\n",
            "916  rows done!\n",
            "924  rows done!\n",
            "936  rows done!\n",
            "953  rows done!\n",
            "968  rows done!\n",
            "980  rows done!\n",
            "990  rows done!\n",
            "1003  rows done!\n",
            "1018  rows done!\n",
            "1026  rows done!\n",
            "1028  rows done!\n",
            "1037  rows done!\n",
            "1049  rows done!\n",
            "1056  rows done!\n",
            "1063  rows done!\n",
            "1073  rows done!\n",
            "1083  rows done!\n",
            "1094  rows done!\n",
            "1108  rows done!\n",
            "1117  rows done!\n",
            "1131  rows done!\n",
            "1150  rows done!\n",
            "1166  rows done!\n",
            "1178  rows done!\n",
            "1189  rows done!\n",
            "1202  rows done!\n",
            "1219  rows done!\n",
            "1240  rows done!\n",
            "1261  rows done!\n",
            "1274  rows done!\n",
            "1281  rows done!\n",
            "1290  rows done!\n",
            "1296  rows done!\n",
            "1309  rows done!\n",
            "1327  rows done!\n",
            "1343  rows done!\n",
            "1366  rows done!\n",
            "1385  rows done!\n",
            "1401  rows done!\n",
            "1413  rows done!\n",
            "1417  rows done!\n",
            "1422  rows done!\n",
            "1423  rows done!\n",
            "1426  rows done!\n",
            "1431  rows done!\n",
            "1434  rows done!\n",
            "1442  rows done!\n",
            "1454  rows done!\n",
            "1462  rows done!\n",
            "1463  rows done!\n",
            "1465  rows done!\n",
            "1467  rows done!\n",
            "1468  rows done!\n",
            "1469  rows done!\n",
            "1470  rows done!\n",
            "1471  rows done!\n",
            "1472  rows done!\n",
            "1473  rows done!\n",
            "1475  rows done!\n",
            "1477  rows done!\n",
            "1479  rows done!\n",
            "1480  rows done!\n",
            "1482  rows done!\n",
            "1487  rows done!\n",
            "1495  rows done!\n",
            "1502  rows done!\n",
            "1515  rows done!\n",
            "1526  rows done!\n",
            "1537  rows done!\n",
            "1550  rows done!\n",
            "1558  rows done!\n",
            "1574  rows done!\n",
            "1584  rows done!\n",
            "1602  rows done!\n",
            "1613  rows done!\n",
            "1623  rows done!\n",
            "1627  rows done!\n",
            "1633  rows done!\n",
            "1639  rows done!\n",
            "1641  rows done!\n",
            "1645  rows done!\n",
            "1651  rows done!\n",
            "1657  rows done!\n",
            "1664  rows done!\n",
            "1674  rows done!\n",
            "1680  rows done!\n",
            "1685  rows done!\n",
            "1689  rows done!\n",
            "1693  rows done!\n",
            "1711  rows done!\n",
            "1732  rows done!\n",
            "1739  rows done!\n",
            "1746  rows done!\n",
            "1762  rows done!\n",
            "1775  rows done!\n",
            "1788  rows done!\n",
            "1800  rows done!\n",
            "1812  rows done!\n",
            "1819  rows done!\n",
            "1825  rows done!\n",
            "1831  rows done!\n",
            "1840  rows done!\n",
            "1846  rows done!\n",
            "1853  rows done!\n",
            "1855  rows done!\n",
            "1859  rows done!\n",
            "1867  rows done!\n",
            "1876  rows done!\n",
            "1889  rows done!\n",
            "1902  rows done!\n",
            "1921  rows done!\n",
            "1947  rows done!\n",
            "1966  rows done!\n",
            "1973  rows done!\n",
            "1978  rows done!\n",
            "1990  rows done!\n",
            "2002  rows done!\n",
            "2012  rows done!\n",
            "2023  rows done!\n",
            "2034  rows done!\n",
            "2042  rows done!\n",
            "2055  rows done!\n",
            "2065  rows done!\n",
            "2075  rows done!\n",
            "2090  rows done!\n",
            "2100  rows done!\n",
            "2111  rows done!\n",
            "2117  rows done!\n",
            "2130  rows done!\n",
            "2143  rows done!\n",
            "2154  rows done!\n",
            "2161  rows done!\n",
            "2178  rows done!\n",
            "2193  rows done!\n",
            "2212  rows done!\n",
            "2232  rows done!\n",
            "2242  rows done!\n",
            "2254  rows done!\n",
            "2270  rows done!\n",
            "2283  rows done!\n",
            "2298  rows done!\n",
            "2313  rows done!\n",
            "2328  rows done!\n",
            "2340  rows done!\n",
            "2368  rows done!\n",
            "2374  rows done!\n",
            "2380  rows done!\n",
            "2392  rows done!\n",
            "2418  rows done!\n",
            "2434  rows done!\n",
            "2449  rows done!\n",
            "2463  rows done!\n",
            "2471  rows done!\n",
            "2486  rows done!\n",
            "2519  rows done!\n",
            "2532  rows done!\n",
            "2558  rows done!\n",
            "2575  rows done!\n",
            "2590  rows done!\n",
            "2603  rows done!\n",
            "2616  rows done!\n",
            "2633  rows done!\n",
            "2643  rows done!\n",
            "2653  rows done!\n",
            "2663  rows done!\n",
            "2673  rows done!\n",
            "2684  rows done!\n",
            "2699  rows done!\n",
            "2712  rows done!\n",
            "2724  rows done!\n",
            "2739  rows done!\n",
            "2753  rows done!\n",
            "2770  rows done!\n",
            "2786  rows done!\n",
            "2803  rows done!\n",
            "2824  rows done!\n",
            "2852  rows done!\n",
            "2883  rows done!\n",
            "2893  rows done!\n",
            "2929  rows done!\n",
            "2948  rows done!\n",
            "2961  rows done!\n",
            "2976  rows done!\n",
            "3003  rows done!\n",
            "3019  rows done!\n",
            "3034  rows done!\n",
            "3054  rows done!\n",
            "3070  rows done!\n",
            "3083  rows done!\n",
            "3093  rows done!\n",
            "3106  rows done!\n",
            "3118  rows done!\n",
            "3126  rows done!\n",
            "3137  rows done!\n",
            "3145  rows done!\n",
            "3159  rows done!\n",
            "3176  rows done!\n",
            "3198  rows done!\n",
            "3205  rows done!\n",
            "3217  rows done!\n",
            "3226  rows done!\n",
            "3232  rows done!\n",
            "3244  rows done!\n",
            "3255  rows done!\n",
            "3262  rows done!\n",
            "3269  rows done!\n",
            "3273  rows done!\n",
            "3280  rows done!\n",
            "3289  rows done!\n",
            "3300  rows done!\n",
            "3310  rows done!\n",
            "3322  rows done!\n",
            "3332  rows done!\n",
            "3342  rows done!\n",
            "3353  rows done!\n",
            "3364  rows done!\n",
            "3379  rows done!\n",
            "3391  rows done!\n",
            "3398  rows done!\n",
            "3409  rows done!\n",
            "3422  rows done!\n",
            "3446  rows done!\n",
            "3463  rows done!\n",
            "3477  rows done!\n",
            "3489  rows done!\n",
            "3502  rows done!\n",
            "3517  rows done!\n",
            "3539  rows done!\n",
            "3557  rows done!\n",
            "3572  rows done!\n",
            "3585  rows done!\n",
            "3623  rows done!\n",
            "3639  rows done!\n",
            "3650  rows done!\n",
            "3658  rows done!\n",
            "3668  rows done!\n",
            "3676  rows done!\n",
            "3693  rows done!\n",
            "3705  rows done!\n",
            "3719  rows done!\n",
            "3737  rows done!\n",
            "3752  rows done!\n",
            "3766  rows done!\n",
            "3786  rows done!\n",
            "3810  rows done!\n",
            "3848  rows done!\n",
            "3860  rows done!\n",
            "3894  rows done!\n",
            "3913  rows done!\n",
            "3926  rows done!\n",
            "3939  rows done!\n",
            "3962  rows done!\n",
            "3981  rows done!\n",
            "3997  rows done!\n",
            "4015  rows done!\n",
            "4035  rows done!\n",
            "4050  rows done!\n",
            "4060  rows done!\n",
            "4069  rows done!\n",
            "4083  rows done!\n",
            "4093  rows done!\n",
            "4101  rows done!\n",
            "4110  rows done!\n",
            "4119  rows done!\n",
            "4135  rows done!\n",
            "4152  rows done!\n",
            "4172  rows done!\n",
            "4181  rows done!\n",
            "4192  rows done!\n",
            "4200  rows done!\n",
            "4207  rows done!\n",
            "4224  rows done!\n",
            "4229  rows done!\n",
            "4236  rows done!\n",
            "4242  rows done!\n",
            "4246  rows done!\n",
            "4256  rows done!\n",
            "4266  rows done!\n",
            "4275  rows done!\n",
            "4285  rows done!\n",
            "4297  rows done!\n",
            "4307  rows done!\n",
            "4319  rows done!\n",
            "4329  rows done!\n",
            "4342  rows done!\n",
            "4356  rows done!\n",
            "4367  rows done!\n",
            "4375  rows done!\n",
            "4387  rows done!\n",
            "4406  rows done!\n",
            "4426  rows done!\n",
            "4439  rows done!\n",
            "4455  rows done!\n",
            "4466  rows done!\n",
            "4479  rows done!\n",
            "4496  rows done!\n",
            "4515  rows done!\n",
            "4534  rows done!\n",
            "4547  rows done!\n",
            "4561  rows done!\n",
            "4599  rows done!\n",
            "4614  rows done!\n",
            "4624  rows done!\n",
            "4632  rows done!\n",
            "4640  rows done!\n",
            "4650  rows done!\n",
            "4667  rows done!\n",
            "4678  rows done!\n",
            "4694  rows done!\n",
            "4710  rows done!\n",
            "4722  rows done!\n",
            "4734  rows done!\n",
            "4748  rows done!\n",
            "4764  rows done!\n",
            "4776  rows done!\n",
            "4786  rows done!\n",
            "4791  rows done!\n",
            "4798  rows done!\n",
            "4805  rows done!\n",
            "4815  rows done!\n",
            "4840  rows done!\n",
            "4857  rows done!\n",
            "4872  rows done!\n",
            "4886  rows done!\n",
            "4902  rows done!\n",
            "4913  rows done!\n",
            "4921  rows done!\n",
            "4929  rows done!\n",
            "4941  rows done!\n",
            "4957  rows done!\n",
            "4973  rows done!\n"
          ]
        }
      ],
      "source": [
        "def bsbi():\n",
        "  freq_dict = defaultdict(set)\n",
        "  with open('gutenberg_data.csv') as f:\n",
        "    next(f)\n",
        "    csv_file = csv.reader(f)\n",
        "    total_files = 0\n",
        "    i = 0\n",
        "    current_block = 0\n",
        "\n",
        "    for line in csv_file:\n",
        "      title, author, link, id, bookshelf, text = line\n",
        "      i = i + 1\n",
        "\n",
        "      # if (i == 2):\n",
        "      #     break\n",
        "\n",
        "      for word in text.split():\n",
        "        word = remove_symbols(word)\n",
        "\n",
        "        if word and word not in stop_words:\n",
        "          word = porter.stem(word)\n",
        "\n",
        "          if word not in freq_dict:\n",
        "            current_block = current_block + 1\n",
        "\n",
        "          if not freq_dict[word].__contains__(id):\n",
        "            freq_dict[word].add(id)\n",
        "            current_block = current_block + 1\n",
        "\n",
        "        \n",
        "\n",
        "        if current_block >= BLOCK_SIZE:\n",
        "          sorted_list = sorted(freq_dict.items(), key= lambda _: _[0])\n",
        "\n",
        "          with open(f'./IR2_OUTPUTS/OP{total_files}.txt', 'w') as f:\n",
        "          # with open(f'./IRO/OP{total_files}.txt', 'w') as f:\n",
        "            for word_id, doc_ids in sorted_list:\n",
        "              f.write(word_id)\n",
        "              for doc_id in doc_ids:\n",
        "                f.write(f' {doc_id}')\n",
        "              f.write('\\n')\n",
        "            \n",
        "          current_block = 0\n",
        "          freq_dict.clear()\n",
        "          total_files = total_files + 1\n",
        "            \n",
        "          print (i, ' rows done!')\n",
        "\n",
        "    sorted_list = sorted(freq_dict.items(), key= lambda _: _[0])\n",
        "    \n",
        "    print (len(sorted_list))\n",
        "    if len(sorted_list) > 0:\n",
        "      with open(f'./IR2_OUTPUTS/OP{total_files}.txt', 'w') as f:\n",
        "      # with open(f'./IRO/OP{total_files}.txt', 'w') as f:\n",
        "        for word_id, doc_ids in sorted_list:\n",
        "          \n",
        "          f.write(word_id)\n",
        "          for doc_id in doc_ids:\n",
        "            \n",
        "            f.write(f' {doc_id}')\n",
        "          f.write('\\n')\n",
        "          \n",
        "\n",
        "      current_block = 0\n",
        "      freq_dict.clear()\n",
        "      total_files = total_files + 1\n",
        "\n",
        "    print (i, ' rows done')\n",
        "\n",
        "bsbi()"
      ]
    },
    {
      "cell_type": "code",
      "execution_count": null,
      "metadata": {
        "colab": {
          "base_uri": "https://localhost:8080/"
        },
        "id": "LjBGJ0rR6ifo",
        "outputId": "2b006159-5ee2-42a3-fb05-c8eeb05486b4"
      },
      "outputs": [
        {
          "name": "stdout",
          "output_type": "stream",
          "text": [
            "gutenberg_data.csv  IR2_OUTPUTS\n"
          ]
        }
      ],
      "source": [
        "!ls"
      ]
    },
    {
      "cell_type": "code",
      "execution_count": null,
      "metadata": {
        "id": "DbWEhXpBDHTz"
      },
      "outputs": [],
      "source": [
        "file_names = [f'./IR2_OUTPUTS/OP{i}.txt' for i in range(947)]\n",
        "file_pointers = [open(i) for i in file_names]"
      ]
    },
    {
      "cell_type": "code",
      "execution_count": null,
      "metadata": {
        "id": "JZa9C1u67elW"
      },
      "outputs": [],
      "source": [
        "\"\"\"\n",
        "This algo is called external merge\n",
        "In python I took help of heaps to do the merging\n",
        "A great answer of what I did is at this link,\n",
        "https://stackoverflow.com/questions/1001569/python-class-to-merge-sorted-files-how-can-this-be-improved\n",
        "^Make sure to take a look at this to see what we are really doing\n",
        "\n",
        "\"\"\"\n",
        "\n",
        "# here we are using yeild so we are JUST READING ONE LINE at a time\n",
        "# you can read more about it by searching generators in python\n",
        "def decorated_file(f, key):\n",
        "  for line in f:\n",
        "    yield (key(line), line)\n",
        "\n",
        "files = map(open, file_names)\n",
        "outfile = open('./IROUTPUTS_v2/merged.txt', 'w')\n",
        "\n",
        "def key_fn(line):\n",
        "    return line.split(' ', 2)[0] # returning word_id\n",
        "\n",
        "\"\"\"\n",
        "The simple sorting version would be like below\n",
        "\n",
        "for line in heapq.merge(*[decorated_file(f, keyfunc) for f in files]):\n",
        "    outfile.write(line[1])\n",
        "\n",
        "so if there'd be 2 files \n",
        "a 1 2 3\n",
        "b 3 4 5\n",
        "\n",
        "and \n",
        "\n",
        "a 6 7 8\n",
        "b 8 9 10\n",
        "\n",
        "o/p would be\n",
        "a 1 2 3\n",
        "a 6 7 8\n",
        "b 3 4 5\n",
        "b 8 9 10\n",
        "So I kind of did lil bit of modification to do what we want in one pass\n",
        "TIME: 6m 14s (for ~1k files of size ~620kb each)\n",
        "\n",
        "a 1 2 3 6 7 8\n",
        "b 3 4 5 8 9 10\n",
        "\"\"\"\n",
        "prev = ''\n",
        "for line in heapq.merge(*[decorated_file(f, key_fn) for f in files]):\n",
        "  # to understand this, you can do this over small number of sorted files and try to print line\n",
        "  if prev != line[0]:\n",
        "    # if we have new word, make sure to add new line at first\n",
        "    outfile.write(f'\\n{line[1].strip()}')\n",
        "    prev = line[0]\n",
        "  # if we have same word yet, put a space and add other ids\n",
        "  else:\n",
        "    # line[1][len(line[0]):] => We are removing the word_id string and then writing the line\n",
        "    outfile.write(f' {line[1][len(line[0]):].strip()}')\n",
        "for i in file_pointers:\n",
        "  i.close()\n",
        "outfile.close()"
      ]
    },
    {
      "cell_type": "code",
      "execution_count": null,
      "metadata": {
        "id": "kG9KkhBJ73j8"
      },
      "outputs": [],
      "source": [
        ""
      ]
    }
  ],
  "metadata": {
    "colab": {
      "collapsed_sections": [],
      "name": "IR_A2.ipynb",
      "provenance": []
    },
    "kernelspec": {
      "display_name": "Python 3",
      "name": "python3"
    },
    "language_info": {
      "name": "python"
    }
  },
  "nbformat": 4,
  "nbformat_minor": 0
}