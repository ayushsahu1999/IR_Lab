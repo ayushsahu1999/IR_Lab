{
  "cells": [
    {
      "cell_type": "code",
      "execution_count": null,
      "metadata": {
        "id": "ftvJfFBbJ1Bw"
      },
      "outputs": [],
      "source": [
        "import pandas as pd\n",
        "import numpy as np\n",
        "import matplotlib.pyplot as plt\n",
        "import nltk\n",
        "import math"
      ]
    },
    {
      "cell_type": "code",
      "execution_count": null,
      "metadata": {
        "id": "mskSX5e-MkEw"
      },
      "outputs": [],
      "source": [
        "from string import punctuation\n",
        "\n",
        "def remove_unn(s):\n",
        "  str1 = ''\n",
        "  for c in s:\n",
        "    if c not in punctuation:\n",
        "      if not c.isdigit():\n",
        "        str1 = str1 + c\n",
        "\n",
        "  return str1"
      ]
    },
    {
      "cell_type": "code",
      "execution_count": null,
      "metadata": {
        "id": "TQwldPUSPf3g"
      },
      "outputs": [],
      "source": [
        "inp = ['/content/file_1.txt','/content/file_2.txt',\n",
        "'/content/file_3.txt', '/content/file_4.txt', '/content/file_5.txt']"
      ]
    },
    {
      "cell_type": "code",
      "execution_count": null,
      "metadata": {
        "colab": {
          "base_uri": "https://localhost:8080/"
        },
        "id": "lvelh1RcQoTU",
        "outputId": "418d378d-c34f-43a4-aa07-0d8469d545d4"
      },
      "outputs": [
        {
          "name": "stdout",
          "output_type": "stream",
          "text": [
            "[nltk_data] Downloading package stopwords to /root/nltk_data...\n",
            "[nltk_data]   Unzipping corpora/stopwords.zip.\n"
          ]
        },
        {
          "data": {
            "text/plain": [
              "True"
            ]
          },
          "execution_count": 5,
          "metadata": {},
          "output_type": "execute_result"
        }
      ],
      "source": [
        "nltk.download('stopwords')"
      ]
    },
    {
      "cell_type": "code",
      "execution_count": null,
      "metadata": {
        "colab": {
          "base_uri": "https://localhost:8080/"
        },
        "id": "owcX7SDkP-en",
        "outputId": "333023ad-893d-4757-ff8e-a97d04eafcc5"
      },
      "outputs": [
        {
          "name": "stdout",
          "output_type": "stream",
          "text": [
            "[['linear', 'algebra', 'singular', 'value', 'decomposition', 'svd', 'matrix', 'factorization', 'matrix', 'three', 'matrices', 'interesting', 'algebraic', 'properties', 'conveys', 'important', 'geometrical', 'theoretical', 'insights', 'linear', 'transformations', 'realize', 'common', 'questions', 'nonbeginners', 'may', 'ask', 'let', 'address', 'elephant', 'room', 'first'], ['also', 'important', 'applications', 'data', 'science', 'article', 'try', 'explain', 'mathematical', 'intuition', 'behind', 'svd', 'geometrical', 'meaning', 'instead', 'manual', 'calculations', 'use', 'python', 'libraries', 'calculations', 'later', 'give', 'examples', 'using', 'svd', 'data', 'science', 'applications', 'pca', 'dimension', 'reduction', 'pca', 'reduces', 'dimension', 'far'], ['article', 'boldface', 'lowercase', 'letters', 'like', 'refer', 'vectors', 'boldface', 'capital', 'letters', 'like', 'refer', 'matrices', 'italic', 'lowercase', 'letters', 'like', 'refer', 'scalars', 'answer', 'questions', 'interest', 'rate', 'example', 'article', 'also', 'contains', 'optional', 'sections', 'feel', 'free', 'skip', 'according', 'interest', 'level', 'simplified', 'perspective', 'pca', 'transforms', 'data', 'linearly', 'new', 'properties', 'correlated'], ['matrix', 'decomposition', 'also', 'known', 'matrix', 'factorization', 'involves', 'describing', 'given', 'matrix', 'using', 'constituent', 'elements', 'perhaps', 'known', 'widely', 'used', 'matrix', 'decomposition', 'method', 'singularvalue', 'decomposition', 'svd', 'matrices', 'svd', 'makes', 'stable', 'methods', 'eigendecomposition', 'obviously', 'use', 'svd', 'find', 'pca', 'truncating', 'less', 'important', 'basis', 'vectors', 'original', 'svd', 'matrix'], ['singularvalue', 'decomposition', 'svd', 'short', 'matrix', 'decomposition', 'method', 'reducing', 'matrix', 'constituent', 'parts', 'order', 'make', 'certain', 'subsequent', 'matrix', 'calculations', 'simpler', 'case', 'simplicity', 'focus', 'svd', 'realvalued', 'matrices', 'ignore', 'case', 'complex', 'numbers', 'becomes', 'even', 'harder', 'highdimensional', 'raw', 'data', 'like', 'finding', 'needle', 'haystack', 'svd', 'allows', 'us', 'extract', 'untangle', 'information', 'article', 'detail', 'svd', 'pca']]\n"
          ]
        }
      ],
      "source": [
        "docs = len(inp) # no of documents\n",
        "store = []  # list of content of all docs.\n",
        "\n",
        "for i in range(len(inp)):\n",
        "  file = open(inp[i], 'r')\n",
        "  string = ''\n",
        "  while 1:\n",
        "    # read by character\n",
        "    char = file.read(1)\n",
        "    if not char == '\\n':\n",
        "      string += char\n",
        "    if not char:\n",
        "      break\n",
        "  \n",
        "  store.append(string)\n",
        "  file.close\n",
        "\n",
        "stopwords = nltk.corpus.stopwords.words('english')\n",
        "\n",
        "all_docs = []\n",
        "for string in store:\n",
        "  string = remove_unn(string.lower())\n",
        "  string = string.split(' ')\n",
        "  all_docs.append(string)\n",
        "\n",
        "\n",
        "bow = []  # bag of words\n",
        "for j in range(docs):\n",
        "  temp = []\n",
        "  for i in all_docs[j]:  # all_docs[j] is jth doc's list of words\n",
        "    if i not in stopwords and len(i) > 0 and i != None:\n",
        "      temp.append(i)\n",
        "    \n",
        "  bow.append(temp)\n",
        "\n",
        "print(bow)"
      ]
    },
    {
      "cell_type": "code",
      "execution_count": null,
      "metadata": {
        "id": "Aq5VDFfPR1_k"
      },
      "outputs": [],
      "source": [
        "# gives all unique terms\n",
        "\n",
        "def uniqueness(bow):\n",
        "  a = bow[0]\n",
        "  for i in range(1, len(bow)):\n",
        "    a = set(a).union(set(bow[i]))\n",
        "\n",
        "  return a\n",
        "\n",
        "w_set = uniqueness(bow)"
      ]
    },
    {
      "cell_type": "code",
      "execution_count": null,
      "metadata": {
        "id": "zFl--y12ST0l"
      },
      "outputs": [],
      "source": [
        "worddict = [dict.fromkeys(w_set, 0) for i in range(len(bow))]\n",
        "\n",
        "# creates a term document matrix\n",
        "def term_doc_matrix():\n",
        "  for bi, wi in zip(bow, worddict):\n",
        "    for row in bi:\n",
        "      wi[row] += 1  # increments value of each term by 1 if that term is found\n",
        "  return pd.DataFrame(worddict)"
      ]
    },
    {
      "cell_type": "code",
      "execution_count": null,
      "metadata": {
        "colab": {
          "base_uri": "https://localhost:8080/"
        },
        "id": "ifkIrzalTzlE",
        "outputId": "b887be35-3cc3-4668-a61f-38f8b6f72751"
      },
      "outputs": [
        {
          "name": "stdout",
          "output_type": "stream",
          "text": [
            "   first  questions  svd  widely  simplicity  ...  us  use  may  common  algebra\n",
            "0      1          1    1       0           0  ...   0    0    1       1        1\n",
            "1      0          0    2       0           0  ...   0    1    0       0        0\n",
            "2      0          1    0       0           0  ...   0    0    0       0        0\n",
            "3      0          0    4       1           0  ...   0    1    0       0        0\n",
            "4      0          0    4       0           1  ...   1    0    0       0        0\n",
            "\n",
            "[5 rows x 133 columns]\n"
          ]
        }
      ],
      "source": [
        "doc_term = term_doc_matrix()\n",
        "print(doc_term)"
      ]
    },
    {
      "cell_type": "code",
      "execution_count": null,
      "metadata": {
        "id": "jmU7v3IaT6di"
      },
      "outputs": [],
      "source": [
        "def term_freq(worddict, bow):\n",
        "  tfd = {}\n",
        "  b_count = len(bow)\n",
        "  for word, count in worddict.items():\n",
        "    tfd[word] = count / float(b_count)\n",
        "  return tfd"
      ]
    },
    {
      "cell_type": "code",
      "execution_count": null,
      "metadata": {
        "colab": {
          "base_uri": "https://localhost:8080/"
        },
        "id": "wR-6qhQwURmr",
        "outputId": "080c4963-62ba-4491-c86b-24acf8857ba9"
      },
      "outputs": [
        {
          "name": "stdout",
          "output_type": "stream",
          "text": [
            "[{'first': 0.03125, 'questions': 0.03125, 'svd': 0.03125, 'widely': 0.0, 'simplicity': 0.0, 'highdimensional': 0.0, 'free': 0.0, 'raw': 0.0, 'transforms': 0.0, 'libraries': 0.0, 'science': 0.0, 'explain': 0.0, 'example': 0.0, 'linear': 0.0625, 'singular': 0.03125, 'like': 0.0, 'address': 0.03125, 'matrices': 0.03125, 'far': 0.0, 'later': 0.0, 'methods': 0.0, 'perhaps': 0.0, 'scalars': 0.0, 'refer': 0.0, 'data': 0.0, 'applications': 0.0, 'involves': 0.0, 'untangle': 0.0, 'extract': 0.0, 'linearly': 0.0, 'find': 0.0, 'transformations': 0.03125, 'examples': 0.0, 'makes': 0.0, 'geometrical': 0.03125, 'calculations': 0.0, 'important': 0.03125, 'level': 0.0, 'matrix': 0.0625, 'python': 0.0, 'factorization': 0.03125, 'interest': 0.0, 'theoretical': 0.03125, 'singularvalue': 0.0, 'order': 0.0, 'skip': 0.0, 'answer': 0.0, 'also': 0.0, 'contains': 0.0, 'make': 0.0, 'manual': 0.0, 'capital': 0.0, 'italic': 0.0, 'used': 0.0, 'elements': 0.0, 'insights': 0.03125, 'simpler': 0.0, 'even': 0.0, 'truncating': 0.0, 'value': 0.03125, 'correlated': 0.0, 'focus': 0.0, 'ask': 0.03125, 'obviously': 0.0, 'behind': 0.0, 'parts': 0.0, 'realvalued': 0.0, 'new': 0.0, 'stable': 0.0, 'constituent': 0.0, 'feel': 0.0, 'harder': 0.0, 'describing': 0.0, 'article': 0.0, 'vectors': 0.0, 'reduces': 0.0, 'basis': 0.0, 'short': 0.0, 'room': 0.03125, 'pca': 0.0, 'letters': 0.0, 'detail': 0.0, 'haystack': 0.0, 'becomes': 0.0, 'intuition': 0.0, 'known': 0.0, 'rate': 0.0, 'boldface': 0.0, 'decomposition': 0.03125, 'reduction': 0.0, 'let': 0.03125, 'sections': 0.0, 'subsequent': 0.0, 'give': 0.0, 'conveys': 0.03125, 'realize': 0.03125, 'properties': 0.03125, 'eigendecomposition': 0.0, 'three': 0.03125, 'ignore': 0.0, 'interesting': 0.03125, 'mathematical': 0.0, 'information': 0.0, 'according': 0.0, 'nonbeginners': 0.03125, 'simplified': 0.0, 'using': 0.0, 'given': 0.0, 'finding': 0.0, 'algebraic': 0.03125, 'less': 0.0, 'original': 0.0, 'reducing': 0.0, 'numbers': 0.0, 'case': 0.0, 'try': 0.0, 'needle': 0.0, 'dimension': 0.0, 'perspective': 0.0, 'method': 0.0, 'allows': 0.0, 'instead': 0.0, 'optional': 0.0, 'elephant': 0.03125, 'lowercase': 0.0, 'certain': 0.0, 'meaning': 0.0, 'complex': 0.0, 'us': 0.0, 'use': 0.0, 'may': 0.03125, 'common': 0.03125, 'algebra': 0.03125}, {'first': 0.0, 'questions': 0.0, 'svd': 0.05555555555555555, 'widely': 0.0, 'simplicity': 0.0, 'highdimensional': 0.0, 'free': 0.0, 'raw': 0.0, 'transforms': 0.0, 'libraries': 0.027777777777777776, 'science': 0.05555555555555555, 'explain': 0.027777777777777776, 'example': 0.0, 'linear': 0.0, 'singular': 0.0, 'like': 0.0, 'address': 0.0, 'matrices': 0.0, 'far': 0.027777777777777776, 'later': 0.027777777777777776, 'methods': 0.0, 'perhaps': 0.0, 'scalars': 0.0, 'refer': 0.0, 'data': 0.05555555555555555, 'applications': 0.05555555555555555, 'involves': 0.0, 'untangle': 0.0, 'extract': 0.0, 'linearly': 0.0, 'find': 0.0, 'transformations': 0.0, 'examples': 0.027777777777777776, 'makes': 0.0, 'geometrical': 0.027777777777777776, 'calculations': 0.05555555555555555, 'important': 0.027777777777777776, 'level': 0.0, 'matrix': 0.0, 'python': 0.027777777777777776, 'factorization': 0.0, 'interest': 0.0, 'theoretical': 0.0, 'singularvalue': 0.0, 'order': 0.0, 'skip': 0.0, 'answer': 0.0, 'also': 0.027777777777777776, 'contains': 0.0, 'make': 0.0, 'manual': 0.027777777777777776, 'capital': 0.0, 'italic': 0.0, 'used': 0.0, 'elements': 0.0, 'insights': 0.0, 'simpler': 0.0, 'even': 0.0, 'truncating': 0.0, 'value': 0.0, 'correlated': 0.0, 'focus': 0.0, 'ask': 0.0, 'obviously': 0.0, 'behind': 0.027777777777777776, 'parts': 0.0, 'realvalued': 0.0, 'new': 0.0, 'stable': 0.0, 'constituent': 0.0, 'feel': 0.0, 'harder': 0.0, 'describing': 0.0, 'article': 0.027777777777777776, 'vectors': 0.0, 'reduces': 0.027777777777777776, 'basis': 0.0, 'short': 0.0, 'room': 0.0, 'pca': 0.05555555555555555, 'letters': 0.0, 'detail': 0.0, 'haystack': 0.0, 'becomes': 0.0, 'intuition': 0.027777777777777776, 'known': 0.0, 'rate': 0.0, 'boldface': 0.0, 'decomposition': 0.0, 'reduction': 0.027777777777777776, 'let': 0.0, 'sections': 0.0, 'subsequent': 0.0, 'give': 0.027777777777777776, 'conveys': 0.0, 'realize': 0.0, 'properties': 0.0, 'eigendecomposition': 0.0, 'three': 0.0, 'ignore': 0.0, 'interesting': 0.0, 'mathematical': 0.027777777777777776, 'information': 0.0, 'according': 0.0, 'nonbeginners': 0.0, 'simplified': 0.0, 'using': 0.027777777777777776, 'given': 0.0, 'finding': 0.0, 'algebraic': 0.0, 'less': 0.0, 'original': 0.0, 'reducing': 0.0, 'numbers': 0.0, 'case': 0.0, 'try': 0.027777777777777776, 'needle': 0.0, 'dimension': 0.05555555555555555, 'perspective': 0.0, 'method': 0.0, 'allows': 0.0, 'instead': 0.027777777777777776, 'optional': 0.0, 'elephant': 0.0, 'lowercase': 0.0, 'certain': 0.0, 'meaning': 0.027777777777777776, 'complex': 0.0, 'us': 0.0, 'use': 0.027777777777777776, 'may': 0.0, 'common': 0.0, 'algebra': 0.0}, {'first': 0.0, 'questions': 0.022727272727272728, 'svd': 0.0, 'widely': 0.0, 'simplicity': 0.0, 'highdimensional': 0.0, 'free': 0.022727272727272728, 'raw': 0.0, 'transforms': 0.022727272727272728, 'libraries': 0.0, 'science': 0.0, 'explain': 0.0, 'example': 0.022727272727272728, 'linear': 0.0, 'singular': 0.0, 'like': 0.06818181818181818, 'address': 0.0, 'matrices': 0.022727272727272728, 'far': 0.0, 'later': 0.0, 'methods': 0.0, 'perhaps': 0.0, 'scalars': 0.022727272727272728, 'refer': 0.06818181818181818, 'data': 0.022727272727272728, 'applications': 0.0, 'involves': 0.0, 'untangle': 0.0, 'extract': 0.0, 'linearly': 0.022727272727272728, 'find': 0.0, 'transformations': 0.0, 'examples': 0.0, 'makes': 0.0, 'geometrical': 0.0, 'calculations': 0.0, 'important': 0.0, 'level': 0.022727272727272728, 'matrix': 0.0, 'python': 0.0, 'factorization': 0.0, 'interest': 0.045454545454545456, 'theoretical': 0.0, 'singularvalue': 0.0, 'order': 0.0, 'skip': 0.022727272727272728, 'answer': 0.022727272727272728, 'also': 0.022727272727272728, 'contains': 0.022727272727272728, 'make': 0.0, 'manual': 0.0, 'capital': 0.022727272727272728, 'italic': 0.022727272727272728, 'used': 0.0, 'elements': 0.0, 'insights': 0.0, 'simpler': 0.0, 'even': 0.0, 'truncating': 0.0, 'value': 0.0, 'correlated': 0.022727272727272728, 'focus': 0.0, 'ask': 0.0, 'obviously': 0.0, 'behind': 0.0, 'parts': 0.0, 'realvalued': 0.0, 'new': 0.022727272727272728, 'stable': 0.0, 'constituent': 0.0, 'feel': 0.022727272727272728, 'harder': 0.0, 'describing': 0.0, 'article': 0.045454545454545456, 'vectors': 0.022727272727272728, 'reduces': 0.0, 'basis': 0.0, 'short': 0.0, 'room': 0.0, 'pca': 0.022727272727272728, 'letters': 0.06818181818181818, 'detail': 0.0, 'haystack': 0.0, 'becomes': 0.0, 'intuition': 0.0, 'known': 0.0, 'rate': 0.022727272727272728, 'boldface': 0.045454545454545456, 'decomposition': 0.0, 'reduction': 0.0, 'let': 0.0, 'sections': 0.022727272727272728, 'subsequent': 0.0, 'give': 0.0, 'conveys': 0.0, 'realize': 0.0, 'properties': 0.022727272727272728, 'eigendecomposition': 0.0, 'three': 0.0, 'ignore': 0.0, 'interesting': 0.0, 'mathematical': 0.0, 'information': 0.0, 'according': 0.022727272727272728, 'nonbeginners': 0.0, 'simplified': 0.022727272727272728, 'using': 0.0, 'given': 0.0, 'finding': 0.0, 'algebraic': 0.0, 'less': 0.0, 'original': 0.0, 'reducing': 0.0, 'numbers': 0.0, 'case': 0.0, 'try': 0.0, 'needle': 0.0, 'dimension': 0.0, 'perspective': 0.022727272727272728, 'method': 0.0, 'allows': 0.0, 'instead': 0.0, 'optional': 0.022727272727272728, 'elephant': 0.0, 'lowercase': 0.045454545454545456, 'certain': 0.0, 'meaning': 0.0, 'complex': 0.0, 'us': 0.0, 'use': 0.0, 'may': 0.0, 'common': 0.0, 'algebra': 0.0}, {'first': 0.0, 'questions': 0.0, 'svd': 0.09523809523809523, 'widely': 0.023809523809523808, 'simplicity': 0.0, 'highdimensional': 0.0, 'free': 0.0, 'raw': 0.0, 'transforms': 0.0, 'libraries': 0.0, 'science': 0.0, 'explain': 0.0, 'example': 0.0, 'linear': 0.0, 'singular': 0.0, 'like': 0.0, 'address': 0.0, 'matrices': 0.023809523809523808, 'far': 0.0, 'later': 0.0, 'methods': 0.023809523809523808, 'perhaps': 0.023809523809523808, 'scalars': 0.0, 'refer': 0.0, 'data': 0.0, 'applications': 0.0, 'involves': 0.023809523809523808, 'untangle': 0.0, 'extract': 0.0, 'linearly': 0.0, 'find': 0.023809523809523808, 'transformations': 0.0, 'examples': 0.0, 'makes': 0.023809523809523808, 'geometrical': 0.0, 'calculations': 0.0, 'important': 0.023809523809523808, 'level': 0.0, 'matrix': 0.11904761904761904, 'python': 0.0, 'factorization': 0.023809523809523808, 'interest': 0.0, 'theoretical': 0.0, 'singularvalue': 0.023809523809523808, 'order': 0.0, 'skip': 0.0, 'answer': 0.0, 'also': 0.023809523809523808, 'contains': 0.0, 'make': 0.0, 'manual': 0.0, 'capital': 0.0, 'italic': 0.0, 'used': 0.023809523809523808, 'elements': 0.023809523809523808, 'insights': 0.0, 'simpler': 0.0, 'even': 0.0, 'truncating': 0.023809523809523808, 'value': 0.0, 'correlated': 0.0, 'focus': 0.0, 'ask': 0.0, 'obviously': 0.023809523809523808, 'behind': 0.0, 'parts': 0.0, 'realvalued': 0.0, 'new': 0.0, 'stable': 0.023809523809523808, 'constituent': 0.023809523809523808, 'feel': 0.0, 'harder': 0.0, 'describing': 0.023809523809523808, 'article': 0.0, 'vectors': 0.023809523809523808, 'reduces': 0.0, 'basis': 0.023809523809523808, 'short': 0.0, 'room': 0.0, 'pca': 0.023809523809523808, 'letters': 0.0, 'detail': 0.0, 'haystack': 0.0, 'becomes': 0.0, 'intuition': 0.0, 'known': 0.047619047619047616, 'rate': 0.0, 'boldface': 0.0, 'decomposition': 0.07142857142857142, 'reduction': 0.0, 'let': 0.0, 'sections': 0.0, 'subsequent': 0.0, 'give': 0.0, 'conveys': 0.0, 'realize': 0.0, 'properties': 0.0, 'eigendecomposition': 0.023809523809523808, 'three': 0.0, 'ignore': 0.0, 'interesting': 0.0, 'mathematical': 0.0, 'information': 0.0, 'according': 0.0, 'nonbeginners': 0.0, 'simplified': 0.0, 'using': 0.023809523809523808, 'given': 0.023809523809523808, 'finding': 0.0, 'algebraic': 0.0, 'less': 0.023809523809523808, 'original': 0.023809523809523808, 'reducing': 0.0, 'numbers': 0.0, 'case': 0.0, 'try': 0.0, 'needle': 0.0, 'dimension': 0.0, 'perspective': 0.0, 'method': 0.023809523809523808, 'allows': 0.0, 'instead': 0.0, 'optional': 0.0, 'elephant': 0.0, 'lowercase': 0.0, 'certain': 0.0, 'meaning': 0.0, 'complex': 0.0, 'us': 0.0, 'use': 0.023809523809523808, 'may': 0.0, 'common': 0.0, 'algebra': 0.0}, {'first': 0.0, 'questions': 0.0, 'svd': 0.08333333333333333, 'widely': 0.0, 'simplicity': 0.020833333333333332, 'highdimensional': 0.020833333333333332, 'free': 0.0, 'raw': 0.020833333333333332, 'transforms': 0.0, 'libraries': 0.0, 'science': 0.0, 'explain': 0.0, 'example': 0.0, 'linear': 0.0, 'singular': 0.0, 'like': 0.020833333333333332, 'address': 0.0, 'matrices': 0.020833333333333332, 'far': 0.0, 'later': 0.0, 'methods': 0.0, 'perhaps': 0.0, 'scalars': 0.0, 'refer': 0.0, 'data': 0.020833333333333332, 'applications': 0.0, 'involves': 0.0, 'untangle': 0.020833333333333332, 'extract': 0.020833333333333332, 'linearly': 0.0, 'find': 0.0, 'transformations': 0.0, 'examples': 0.0, 'makes': 0.0, 'geometrical': 0.0, 'calculations': 0.020833333333333332, 'important': 0.0, 'level': 0.0, 'matrix': 0.0625, 'python': 0.0, 'factorization': 0.0, 'interest': 0.0, 'theoretical': 0.0, 'singularvalue': 0.020833333333333332, 'order': 0.020833333333333332, 'skip': 0.0, 'answer': 0.0, 'also': 0.0, 'contains': 0.0, 'make': 0.020833333333333332, 'manual': 0.0, 'capital': 0.0, 'italic': 0.0, 'used': 0.0, 'elements': 0.0, 'insights': 0.0, 'simpler': 0.020833333333333332, 'even': 0.020833333333333332, 'truncating': 0.0, 'value': 0.0, 'correlated': 0.0, 'focus': 0.020833333333333332, 'ask': 0.0, 'obviously': 0.0, 'behind': 0.0, 'parts': 0.020833333333333332, 'realvalued': 0.020833333333333332, 'new': 0.0, 'stable': 0.0, 'constituent': 0.020833333333333332, 'feel': 0.0, 'harder': 0.020833333333333332, 'describing': 0.0, 'article': 0.020833333333333332, 'vectors': 0.0, 'reduces': 0.0, 'basis': 0.0, 'short': 0.020833333333333332, 'room': 0.0, 'pca': 0.020833333333333332, 'letters': 0.0, 'detail': 0.020833333333333332, 'haystack': 0.020833333333333332, 'becomes': 0.020833333333333332, 'intuition': 0.0, 'known': 0.0, 'rate': 0.0, 'boldface': 0.0, 'decomposition': 0.041666666666666664, 'reduction': 0.0, 'let': 0.0, 'sections': 0.0, 'subsequent': 0.020833333333333332, 'give': 0.0, 'conveys': 0.0, 'realize': 0.0, 'properties': 0.0, 'eigendecomposition': 0.0, 'three': 0.0, 'ignore': 0.020833333333333332, 'interesting': 0.0, 'mathematical': 0.0, 'information': 0.020833333333333332, 'according': 0.0, 'nonbeginners': 0.0, 'simplified': 0.0, 'using': 0.0, 'given': 0.0, 'finding': 0.020833333333333332, 'algebraic': 0.0, 'less': 0.0, 'original': 0.0, 'reducing': 0.020833333333333332, 'numbers': 0.020833333333333332, 'case': 0.041666666666666664, 'try': 0.0, 'needle': 0.020833333333333332, 'dimension': 0.0, 'perspective': 0.0, 'method': 0.020833333333333332, 'allows': 0.020833333333333332, 'instead': 0.0, 'optional': 0.0, 'elephant': 0.0, 'lowercase': 0.0, 'certain': 0.020833333333333332, 'meaning': 0.0, 'complex': 0.020833333333333332, 'us': 0.020833333333333332, 'use': 0.0, 'may': 0.0, 'common': 0.0, 'algebra': 0.0}]\n"
          ]
        }
      ],
      "source": [
        "\n",
        "tfbow = []\n",
        "for i,j in zip(worddict,bow): #worddict is a list of dictionaries\n",
        "    tfbow.append(term_freq(i,j))\n",
        "\n",
        "print(tfbow)\n",
        "\n",
        "#tfbow is a list of dictionaries. ith dictionary in tfbow is the tfdict of ith document "
      ]
    },
    {
      "cell_type": "code",
      "execution_count": null,
      "metadata": {
        "id": "z-Aa4etcUgNU"
      },
      "outputs": [],
      "source": [
        "def idf(dlist):\n",
        "  idfdict={}\n",
        "  n = len(dlist)\n",
        "  idfdict = dict.fromkeys(dlist[0].keys(),0)\n",
        "  #initializes idfdict as a dictionary which has same keys as dlist[0] and value of each key is 0\n",
        "  for doc in dlist:\n",
        "      for word,val in doc.items():\n",
        "          if val>0:\n",
        "              idfdict[word]+=1\n",
        "  #now idfdict has total occurences of each word in all of the documents\n",
        "  #note that multiple occurences of a word in one document is considered as 1\n",
        "  #hence if value of a key is... for eg: {'king':2,....} \n",
        "  #this means that the word king has appeared in 2 documents\n",
        "  for word,val in idfdict.items():\n",
        "      idfdict[word]=math.log(n/float(val)) \n",
        "      #computes log (total num of documents/no. of documents that contain a particular word)n\n",
        "  return idfdict"
      ]
    },
    {
      "cell_type": "code",
      "execution_count": null,
      "metadata": {
        "colab": {
          "base_uri": "https://localhost:8080/"
        },
        "id": "jzAFCONiUwdc",
        "outputId": "b697b340-3625-4a31-d0e1-630210defced"
      },
      "outputs": [
        {
          "name": "stdout",
          "output_type": "stream",
          "text": [
            "{'first': 1.6094379124341003, 'questions': 0.9162907318741551, 'svd': 0.22314355131420976, 'widely': 1.6094379124341003, 'simplicity': 1.6094379124341003, 'highdimensional': 1.6094379124341003, 'free': 1.6094379124341003, 'raw': 1.6094379124341003, 'transforms': 1.6094379124341003, 'libraries': 1.6094379124341003, 'science': 1.6094379124341003, 'explain': 1.6094379124341003, 'example': 1.6094379124341003, 'linear': 1.6094379124341003, 'singular': 1.6094379124341003, 'like': 0.9162907318741551, 'address': 1.6094379124341003, 'matrices': 0.22314355131420976, 'far': 1.6094379124341003, 'later': 1.6094379124341003, 'methods': 1.6094379124341003, 'perhaps': 1.6094379124341003, 'scalars': 1.6094379124341003, 'refer': 1.6094379124341003, 'data': 0.5108256237659907, 'applications': 1.6094379124341003, 'involves': 1.6094379124341003, 'untangle': 1.6094379124341003, 'extract': 1.6094379124341003, 'linearly': 1.6094379124341003, 'find': 1.6094379124341003, 'transformations': 1.6094379124341003, 'examples': 1.6094379124341003, 'makes': 1.6094379124341003, 'geometrical': 0.9162907318741551, 'calculations': 0.9162907318741551, 'important': 0.5108256237659907, 'level': 1.6094379124341003, 'matrix': 0.5108256237659907, 'python': 1.6094379124341003, 'factorization': 0.9162907318741551, 'interest': 1.6094379124341003, 'theoretical': 1.6094379124341003, 'singularvalue': 0.9162907318741551, 'order': 1.6094379124341003, 'skip': 1.6094379124341003, 'answer': 1.6094379124341003, 'also': 0.5108256237659907, 'contains': 1.6094379124341003, 'make': 1.6094379124341003, 'manual': 1.6094379124341003, 'capital': 1.6094379124341003, 'italic': 1.6094379124341003, 'used': 1.6094379124341003, 'elements': 1.6094379124341003, 'insights': 1.6094379124341003, 'simpler': 1.6094379124341003, 'even': 1.6094379124341003, 'truncating': 1.6094379124341003, 'value': 1.6094379124341003, 'correlated': 1.6094379124341003, 'focus': 1.6094379124341003, 'ask': 1.6094379124341003, 'obviously': 1.6094379124341003, 'behind': 1.6094379124341003, 'parts': 1.6094379124341003, 'realvalued': 1.6094379124341003, 'new': 1.6094379124341003, 'stable': 1.6094379124341003, 'constituent': 0.9162907318741551, 'feel': 1.6094379124341003, 'harder': 1.6094379124341003, 'describing': 1.6094379124341003, 'article': 0.5108256237659907, 'vectors': 0.9162907318741551, 'reduces': 1.6094379124341003, 'basis': 1.6094379124341003, 'short': 1.6094379124341003, 'room': 1.6094379124341003, 'pca': 0.22314355131420976, 'letters': 1.6094379124341003, 'detail': 1.6094379124341003, 'haystack': 1.6094379124341003, 'becomes': 1.6094379124341003, 'intuition': 1.6094379124341003, 'known': 1.6094379124341003, 'rate': 1.6094379124341003, 'boldface': 1.6094379124341003, 'decomposition': 0.5108256237659907, 'reduction': 1.6094379124341003, 'let': 1.6094379124341003, 'sections': 1.6094379124341003, 'subsequent': 1.6094379124341003, 'give': 1.6094379124341003, 'conveys': 1.6094379124341003, 'realize': 1.6094379124341003, 'properties': 0.9162907318741551, 'eigendecomposition': 1.6094379124341003, 'three': 1.6094379124341003, 'ignore': 1.6094379124341003, 'interesting': 1.6094379124341003, 'mathematical': 1.6094379124341003, 'information': 1.6094379124341003, 'according': 1.6094379124341003, 'nonbeginners': 1.6094379124341003, 'simplified': 1.6094379124341003, 'using': 0.9162907318741551, 'given': 1.6094379124341003, 'finding': 1.6094379124341003, 'algebraic': 1.6094379124341003, 'less': 1.6094379124341003, 'original': 1.6094379124341003, 'reducing': 1.6094379124341003, 'numbers': 1.6094379124341003, 'case': 1.6094379124341003, 'try': 1.6094379124341003, 'needle': 1.6094379124341003, 'dimension': 1.6094379124341003, 'perspective': 1.6094379124341003, 'method': 0.9162907318741551, 'allows': 1.6094379124341003, 'instead': 1.6094379124341003, 'optional': 1.6094379124341003, 'elephant': 1.6094379124341003, 'lowercase': 1.6094379124341003, 'certain': 1.6094379124341003, 'meaning': 1.6094379124341003, 'complex': 1.6094379124341003, 'us': 1.6094379124341003, 'use': 0.9162907318741551, 'may': 1.6094379124341003, 'common': 1.6094379124341003, 'algebra': 1.6094379124341003}\n"
          ]
        }
      ],
      "source": [
        "idfs = idf(worddict)\n",
        "print(idfs)"
      ]
    },
    {
      "cell_type": "code",
      "execution_count": null,
      "metadata": {
        "id": "ZT77kOxhU0z7"
      },
      "outputs": [],
      "source": [
        "def tf_idf(tfbow_dic, idfs):\n",
        "  tfidf = {}\n",
        "  for w, v in tfbow_dic.items():\n",
        "    tfidf[w] = v * idfs[w]  # term freq * idfs\n",
        "  return tfidf"
      ]
    },
    {
      "cell_type": "code",
      "execution_count": null,
      "metadata": {
        "colab": {
          "base_uri": "https://localhost:8080/"
        },
        "id": "zRqD1PIxVWjM",
        "outputId": "d348dc93-e6af-4c51-bc76-a5b440ace3d1"
      },
      "outputs": [
        {
          "name": "stdout",
          "output_type": "stream",
          "text": [
            "[{'first': 0.050294934763565634, 'questions': 0.028634085371067347, 'svd': 0.006973235978569055, 'widely': 0.0, 'simplicity': 0.0, 'highdimensional': 0.0, 'free': 0.0, 'raw': 0.0, 'transforms': 0.0, 'libraries': 0.0, 'science': 0.0, 'explain': 0.0, 'example': 0.0, 'linear': 0.10058986952713127, 'singular': 0.050294934763565634, 'like': 0.0, 'address': 0.050294934763565634, 'matrices': 0.006973235978569055, 'far': 0.0, 'later': 0.0, 'methods': 0.0, 'perhaps': 0.0, 'scalars': 0.0, 'refer': 0.0, 'data': 0.0, 'applications': 0.0, 'involves': 0.0, 'untangle': 0.0, 'extract': 0.0, 'linearly': 0.0, 'find': 0.0, 'transformations': 0.050294934763565634, 'examples': 0.0, 'makes': 0.0, 'geometrical': 0.028634085371067347, 'calculations': 0.0, 'important': 0.01596330074268721, 'level': 0.0, 'matrix': 0.03192660148537442, 'python': 0.0, 'factorization': 0.028634085371067347, 'interest': 0.0, 'theoretical': 0.050294934763565634, 'singularvalue': 0.0, 'order': 0.0, 'skip': 0.0, 'answer': 0.0, 'also': 0.0, 'contains': 0.0, 'make': 0.0, 'manual': 0.0, 'capital': 0.0, 'italic': 0.0, 'used': 0.0, 'elements': 0.0, 'insights': 0.050294934763565634, 'simpler': 0.0, 'even': 0.0, 'truncating': 0.0, 'value': 0.050294934763565634, 'correlated': 0.0, 'focus': 0.0, 'ask': 0.050294934763565634, 'obviously': 0.0, 'behind': 0.0, 'parts': 0.0, 'realvalued': 0.0, 'new': 0.0, 'stable': 0.0, 'constituent': 0.0, 'feel': 0.0, 'harder': 0.0, 'describing': 0.0, 'article': 0.0, 'vectors': 0.0, 'reduces': 0.0, 'basis': 0.0, 'short': 0.0, 'room': 0.050294934763565634, 'pca': 0.0, 'letters': 0.0, 'detail': 0.0, 'haystack': 0.0, 'becomes': 0.0, 'intuition': 0.0, 'known': 0.0, 'rate': 0.0, 'boldface': 0.0, 'decomposition': 0.01596330074268721, 'reduction': 0.0, 'let': 0.050294934763565634, 'sections': 0.0, 'subsequent': 0.0, 'give': 0.0, 'conveys': 0.050294934763565634, 'realize': 0.050294934763565634, 'properties': 0.028634085371067347, 'eigendecomposition': 0.0, 'three': 0.050294934763565634, 'ignore': 0.0, 'interesting': 0.050294934763565634, 'mathematical': 0.0, 'information': 0.0, 'according': 0.0, 'nonbeginners': 0.050294934763565634, 'simplified': 0.0, 'using': 0.0, 'given': 0.0, 'finding': 0.0, 'algebraic': 0.050294934763565634, 'less': 0.0, 'original': 0.0, 'reducing': 0.0, 'numbers': 0.0, 'case': 0.0, 'try': 0.0, 'needle': 0.0, 'dimension': 0.0, 'perspective': 0.0, 'method': 0.0, 'allows': 0.0, 'instead': 0.0, 'optional': 0.0, 'elephant': 0.050294934763565634, 'lowercase': 0.0, 'certain': 0.0, 'meaning': 0.0, 'complex': 0.0, 'us': 0.0, 'use': 0.0, 'may': 0.050294934763565634, 'common': 0.050294934763565634, 'algebra': 0.050294934763565634}, {'first': 0.0, 'questions': 0.0, 'svd': 0.012396863961900541, 'widely': 0.0, 'simplicity': 0.0, 'highdimensional': 0.0, 'free': 0.0, 'raw': 0.0, 'transforms': 0.0, 'libraries': 0.04470660867872501, 'science': 0.08941321735745002, 'explain': 0.04470660867872501, 'example': 0.0, 'linear': 0.0, 'singular': 0.0, 'like': 0.0, 'address': 0.0, 'matrices': 0.0, 'far': 0.04470660867872501, 'later': 0.04470660867872501, 'methods': 0.0, 'perhaps': 0.0, 'scalars': 0.0, 'refer': 0.0, 'data': 0.028379201320332816, 'applications': 0.08941321735745002, 'involves': 0.0, 'untangle': 0.0, 'extract': 0.0, 'linearly': 0.0, 'find': 0.0, 'transformations': 0.0, 'examples': 0.04470660867872501, 'makes': 0.0, 'geometrical': 0.02545252032983764, 'calculations': 0.05090504065967528, 'important': 0.014189600660166408, 'level': 0.0, 'matrix': 0.0, 'python': 0.04470660867872501, 'factorization': 0.0, 'interest': 0.0, 'theoretical': 0.0, 'singularvalue': 0.0, 'order': 0.0, 'skip': 0.0, 'answer': 0.0, 'also': 0.014189600660166408, 'contains': 0.0, 'make': 0.0, 'manual': 0.04470660867872501, 'capital': 0.0, 'italic': 0.0, 'used': 0.0, 'elements': 0.0, 'insights': 0.0, 'simpler': 0.0, 'even': 0.0, 'truncating': 0.0, 'value': 0.0, 'correlated': 0.0, 'focus': 0.0, 'ask': 0.0, 'obviously': 0.0, 'behind': 0.04470660867872501, 'parts': 0.0, 'realvalued': 0.0, 'new': 0.0, 'stable': 0.0, 'constituent': 0.0, 'feel': 0.0, 'harder': 0.0, 'describing': 0.0, 'article': 0.014189600660166408, 'vectors': 0.0, 'reduces': 0.04470660867872501, 'basis': 0.0, 'short': 0.0, 'room': 0.0, 'pca': 0.012396863961900541, 'letters': 0.0, 'detail': 0.0, 'haystack': 0.0, 'becomes': 0.0, 'intuition': 0.04470660867872501, 'known': 0.0, 'rate': 0.0, 'boldface': 0.0, 'decomposition': 0.0, 'reduction': 0.04470660867872501, 'let': 0.0, 'sections': 0.0, 'subsequent': 0.0, 'give': 0.04470660867872501, 'conveys': 0.0, 'realize': 0.0, 'properties': 0.0, 'eigendecomposition': 0.0, 'three': 0.0, 'ignore': 0.0, 'interesting': 0.0, 'mathematical': 0.04470660867872501, 'information': 0.0, 'according': 0.0, 'nonbeginners': 0.0, 'simplified': 0.0, 'using': 0.02545252032983764, 'given': 0.0, 'finding': 0.0, 'algebraic': 0.0, 'less': 0.0, 'original': 0.0, 'reducing': 0.0, 'numbers': 0.0, 'case': 0.0, 'try': 0.04470660867872501, 'needle': 0.0, 'dimension': 0.08941321735745002, 'perspective': 0.0, 'method': 0.0, 'allows': 0.0, 'instead': 0.04470660867872501, 'optional': 0.0, 'elephant': 0.0, 'lowercase': 0.0, 'certain': 0.0, 'meaning': 0.04470660867872501, 'complex': 0.0, 'us': 0.0, 'use': 0.02545252032983764, 'may': 0.0, 'common': 0.0, 'algebra': 0.0}, {'first': 0.0, 'questions': 0.020824789360776252, 'svd': 0.0, 'widely': 0.0, 'simplicity': 0.0, 'highdimensional': 0.0, 'free': 0.03657813437350228, 'raw': 0.0, 'transforms': 0.03657813437350228, 'libraries': 0.0, 'science': 0.0, 'explain': 0.0, 'example': 0.03657813437350228, 'linear': 0.0, 'singular': 0.0, 'like': 0.06247436808232875, 'address': 0.0, 'matrices': 0.005071444348050222, 'far': 0.0, 'later': 0.0, 'methods': 0.0, 'perhaps': 0.0, 'scalars': 0.03657813437350228, 'refer': 0.10973440312050683, 'data': 0.01160967326740888, 'applications': 0.0, 'involves': 0.0, 'untangle': 0.0, 'extract': 0.0, 'linearly': 0.03657813437350228, 'find': 0.0, 'transformations': 0.0, 'examples': 0.0, 'makes': 0.0, 'geometrical': 0.0, 'calculations': 0.0, 'important': 0.0, 'level': 0.03657813437350228, 'matrix': 0.0, 'python': 0.0, 'factorization': 0.0, 'interest': 0.07315626874700457, 'theoretical': 0.0, 'singularvalue': 0.0, 'order': 0.0, 'skip': 0.03657813437350228, 'answer': 0.03657813437350228, 'also': 0.01160967326740888, 'contains': 0.03657813437350228, 'make': 0.0, 'manual': 0.0, 'capital': 0.03657813437350228, 'italic': 0.03657813437350228, 'used': 0.0, 'elements': 0.0, 'insights': 0.0, 'simpler': 0.0, 'even': 0.0, 'truncating': 0.0, 'value': 0.0, 'correlated': 0.03657813437350228, 'focus': 0.0, 'ask': 0.0, 'obviously': 0.0, 'behind': 0.0, 'parts': 0.0, 'realvalued': 0.0, 'new': 0.03657813437350228, 'stable': 0.0, 'constituent': 0.0, 'feel': 0.03657813437350228, 'harder': 0.0, 'describing': 0.0, 'article': 0.02321934653481776, 'vectors': 0.020824789360776252, 'reduces': 0.0, 'basis': 0.0, 'short': 0.0, 'room': 0.0, 'pca': 0.005071444348050222, 'letters': 0.10973440312050683, 'detail': 0.0, 'haystack': 0.0, 'becomes': 0.0, 'intuition': 0.0, 'known': 0.0, 'rate': 0.03657813437350228, 'boldface': 0.07315626874700457, 'decomposition': 0.0, 'reduction': 0.0, 'let': 0.0, 'sections': 0.03657813437350228, 'subsequent': 0.0, 'give': 0.0, 'conveys': 0.0, 'realize': 0.0, 'properties': 0.020824789360776252, 'eigendecomposition': 0.0, 'three': 0.0, 'ignore': 0.0, 'interesting': 0.0, 'mathematical': 0.0, 'information': 0.0, 'according': 0.03657813437350228, 'nonbeginners': 0.0, 'simplified': 0.03657813437350228, 'using': 0.0, 'given': 0.0, 'finding': 0.0, 'algebraic': 0.0, 'less': 0.0, 'original': 0.0, 'reducing': 0.0, 'numbers': 0.0, 'case': 0.0, 'try': 0.0, 'needle': 0.0, 'dimension': 0.0, 'perspective': 0.03657813437350228, 'method': 0.0, 'allows': 0.0, 'instead': 0.0, 'optional': 0.03657813437350228, 'elephant': 0.0, 'lowercase': 0.07315626874700457, 'certain': 0.0, 'meaning': 0.0, 'complex': 0.0, 'us': 0.0, 'use': 0.0, 'may': 0.0, 'common': 0.0, 'algebra': 0.0}, {'first': 0.0, 'questions': 0.0, 'svd': 0.0212517667918295, 'widely': 0.03831995029605, 'simplicity': 0.0, 'highdimensional': 0.0, 'free': 0.0, 'raw': 0.0, 'transforms': 0.0, 'libraries': 0.0, 'science': 0.0, 'explain': 0.0, 'example': 0.0, 'linear': 0.0, 'singular': 0.0, 'like': 0.0, 'address': 0.0, 'matrices': 0.005312941697957375, 'far': 0.0, 'later': 0.0, 'methods': 0.03831995029605, 'perhaps': 0.03831995029605, 'scalars': 0.0, 'refer': 0.0, 'data': 0.0, 'applications': 0.0, 'involves': 0.03831995029605, 'untangle': 0.0, 'extract': 0.0, 'linearly': 0.0, 'find': 0.03831995029605, 'transformations': 0.0, 'examples': 0.0, 'makes': 0.03831995029605, 'geometrical': 0.0, 'calculations': 0.0, 'important': 0.012162514851571207, 'level': 0.0, 'matrix': 0.060812574257856036, 'python': 0.0, 'factorization': 0.02181644599700369, 'interest': 0.0, 'theoretical': 0.0, 'singularvalue': 0.02181644599700369, 'order': 0.0, 'skip': 0.0, 'answer': 0.0, 'also': 0.012162514851571207, 'contains': 0.0, 'make': 0.0, 'manual': 0.0, 'capital': 0.0, 'italic': 0.0, 'used': 0.03831995029605, 'elements': 0.03831995029605, 'insights': 0.0, 'simpler': 0.0, 'even': 0.0, 'truncating': 0.03831995029605, 'value': 0.0, 'correlated': 0.0, 'focus': 0.0, 'ask': 0.0, 'obviously': 0.03831995029605, 'behind': 0.0, 'parts': 0.0, 'realvalued': 0.0, 'new': 0.0, 'stable': 0.03831995029605, 'constituent': 0.02181644599700369, 'feel': 0.0, 'harder': 0.0, 'describing': 0.03831995029605, 'article': 0.0, 'vectors': 0.02181644599700369, 'reduces': 0.0, 'basis': 0.03831995029605, 'short': 0.0, 'room': 0.0, 'pca': 0.005312941697957375, 'letters': 0.0, 'detail': 0.0, 'haystack': 0.0, 'becomes': 0.0, 'intuition': 0.0, 'known': 0.0766399005921, 'rate': 0.0, 'boldface': 0.0, 'decomposition': 0.03648754455471362, 'reduction': 0.0, 'let': 0.0, 'sections': 0.0, 'subsequent': 0.0, 'give': 0.0, 'conveys': 0.0, 'realize': 0.0, 'properties': 0.0, 'eigendecomposition': 0.03831995029605, 'three': 0.0, 'ignore': 0.0, 'interesting': 0.0, 'mathematical': 0.0, 'information': 0.0, 'according': 0.0, 'nonbeginners': 0.0, 'simplified': 0.0, 'using': 0.02181644599700369, 'given': 0.03831995029605, 'finding': 0.0, 'algebraic': 0.0, 'less': 0.03831995029605, 'original': 0.03831995029605, 'reducing': 0.0, 'numbers': 0.0, 'case': 0.0, 'try': 0.0, 'needle': 0.0, 'dimension': 0.0, 'perspective': 0.0, 'method': 0.02181644599700369, 'allows': 0.0, 'instead': 0.0, 'optional': 0.0, 'elephant': 0.0, 'lowercase': 0.0, 'certain': 0.0, 'meaning': 0.0, 'complex': 0.0, 'us': 0.0, 'use': 0.02181644599700369, 'may': 0.0, 'common': 0.0, 'algebra': 0.0}, {'first': 0.0, 'questions': 0.0, 'svd': 0.018595295942850813, 'widely': 0.0, 'simplicity': 0.03352995650904375, 'highdimensional': 0.03352995650904375, 'free': 0.0, 'raw': 0.03352995650904375, 'transforms': 0.0, 'libraries': 0.0, 'science': 0.0, 'explain': 0.0, 'example': 0.0, 'linear': 0.0, 'singular': 0.0, 'like': 0.01908939024737823, 'address': 0.0, 'matrices': 0.004648823985712703, 'far': 0.0, 'later': 0.0, 'methods': 0.0, 'perhaps': 0.0, 'scalars': 0.0, 'refer': 0.0, 'data': 0.010642200495124807, 'applications': 0.0, 'involves': 0.0, 'untangle': 0.03352995650904375, 'extract': 0.03352995650904375, 'linearly': 0.0, 'find': 0.0, 'transformations': 0.0, 'examples': 0.0, 'makes': 0.0, 'geometrical': 0.0, 'calculations': 0.01908939024737823, 'important': 0.0, 'level': 0.0, 'matrix': 0.03192660148537442, 'python': 0.0, 'factorization': 0.0, 'interest': 0.0, 'theoretical': 0.0, 'singularvalue': 0.01908939024737823, 'order': 0.03352995650904375, 'skip': 0.0, 'answer': 0.0, 'also': 0.0, 'contains': 0.0, 'make': 0.03352995650904375, 'manual': 0.0, 'capital': 0.0, 'italic': 0.0, 'used': 0.0, 'elements': 0.0, 'insights': 0.0, 'simpler': 0.03352995650904375, 'even': 0.03352995650904375, 'truncating': 0.0, 'value': 0.0, 'correlated': 0.0, 'focus': 0.03352995650904375, 'ask': 0.0, 'obviously': 0.0, 'behind': 0.0, 'parts': 0.03352995650904375, 'realvalued': 0.03352995650904375, 'new': 0.0, 'stable': 0.0, 'constituent': 0.01908939024737823, 'feel': 0.0, 'harder': 0.03352995650904375, 'describing': 0.0, 'article': 0.010642200495124807, 'vectors': 0.0, 'reduces': 0.0, 'basis': 0.0, 'short': 0.03352995650904375, 'room': 0.0, 'pca': 0.004648823985712703, 'letters': 0.0, 'detail': 0.03352995650904375, 'haystack': 0.03352995650904375, 'becomes': 0.03352995650904375, 'intuition': 0.0, 'known': 0.0, 'rate': 0.0, 'boldface': 0.0, 'decomposition': 0.021284400990249613, 'reduction': 0.0, 'let': 0.0, 'sections': 0.0, 'subsequent': 0.03352995650904375, 'give': 0.0, 'conveys': 0.0, 'realize': 0.0, 'properties': 0.0, 'eigendecomposition': 0.0, 'three': 0.0, 'ignore': 0.03352995650904375, 'interesting': 0.0, 'mathematical': 0.0, 'information': 0.03352995650904375, 'according': 0.0, 'nonbeginners': 0.0, 'simplified': 0.0, 'using': 0.0, 'given': 0.0, 'finding': 0.03352995650904375, 'algebraic': 0.0, 'less': 0.0, 'original': 0.0, 'reducing': 0.03352995650904375, 'numbers': 0.03352995650904375, 'case': 0.0670599130180875, 'try': 0.0, 'needle': 0.03352995650904375, 'dimension': 0.0, 'perspective': 0.0, 'method': 0.01908939024737823, 'allows': 0.03352995650904375, 'instead': 0.0, 'optional': 0.0, 'elephant': 0.0, 'lowercase': 0.0, 'certain': 0.03352995650904375, 'meaning': 0.0, 'complex': 0.03352995650904375, 'us': 0.03352995650904375, 'use': 0.0, 'may': 0.0, 'common': 0.0, 'algebra': 0.0}]\n"
          ]
        }
      ],
      "source": [
        "tfidfl = [] \n",
        "for i in tfbow:\n",
        "    tfidfl.append(tf_idf(i,idfs))\n",
        "#Above loop iterates through list of dictionaries tfbow. \n",
        "#Appends output of tfidf function(a dictionary) to tfidfl\n",
        "print(tfidfl)"
      ]
    },
    {
      "cell_type": "code",
      "execution_count": null,
      "metadata": {
        "id": "PVIT9BfSVbE7"
      },
      "outputs": [],
      "source": [
        "def transpose(A):\n",
        "    ans = np.zeros((len(A[0]),len(A)))\n",
        "    for i in range(len(A)):\n",
        "        for j in range(len(A[0])):\n",
        "            ans[j][i] = A[i][j]\n",
        "    return ans"
      ]
    },
    {
      "cell_type": "code",
      "execution_count": null,
      "metadata": {
        "id": "0VwwruIoVf0b"
      },
      "outputs": [],
      "source": [
        "def matmul(A,X):\n",
        "    if(type(X)!=list and len(X.shape)==1):\n",
        "        X = X.reshape((len(X), 1))\n",
        "    ans = np.zeros((len(A),len(X[0])))\n",
        "    for i in range(len(A)):\n",
        "        for j in range(len(X[0])):\n",
        "            for k in range(len(X)):\n",
        "                ans[i][j] = ans[i][j] + A[i][k]*X[k][j]\n",
        "    if(type(X)!=list and ans.shape[1]==1):\n",
        "        ans = ans.reshape((len(ans)))\n",
        "    return ans"
      ]
    },
    {
      "cell_type": "code",
      "execution_count": null,
      "metadata": {
        "id": "VGi3ta7AViJx"
      },
      "outputs": [],
      "source": [
        "def SVD(A):\n",
        "    original = A.copy()\n",
        "    \n",
        "    u, s, v = np.linalg.svd(original)\n",
        "    \n",
        "    return u, s, v"
      ]
    },
    {
      "cell_type": "code",
      "execution_count": null,
      "metadata": {
        "id": "Y3XzC7WnVzLC"
      },
      "outputs": [],
      "source": [
        "X = pd.DataFrame(tfidfl).T\n",
        "l_2d = X.T.values.tolist()\n",
        "l_2d = np.array(l_2d)\n",
        "l_2d = transpose(l_2d)\n",
        "L,S,R=SVD(l_2d)"
      ]
    },
    {
      "cell_type": "code",
      "execution_count": null,
      "metadata": {
        "colab": {
          "base_uri": "https://localhost:8080/"
        },
        "id": "wmc9frE_fSfY",
        "outputId": "7bb86fb4-e754-4abd-c6e8-7e1c1c7d6228"
      },
      "outputs": [
        {
          "name": "stdout",
          "output_type": "stream",
          "text": [
            "(133, 133) (5,) (5, 5)\n"
          ]
        }
      ],
      "source": [
        "print(L.shape, S.shape, R.shape)"
      ]
    },
    {
      "cell_type": "code",
      "execution_count": null,
      "metadata": {
        "id": "KTGXYPkZfXLZ"
      },
      "outputs": [],
      "source": [
        "def zero_padding(n, u, s, v):\n",
        "  t = []\n",
        "  for i in range(n):\n",
        "    t.append(s[i])  # t = tuple containing first n chars of s\n",
        "    for i in range(len(s) - n):\n",
        "      t.append(0)   # remaining values of t are 0\n",
        "  \n",
        "  #convert the non-selected singular values to 0 and form a diagonal matrix, store as A\n",
        "  A = []\n",
        "  for i in range (0,len(S)):\n",
        "    temp = []\n",
        "    for j in range(0,len(S)):\n",
        "        if(j == i):\n",
        "            temp.append(float(t[j]))\n",
        "        else:\n",
        "            temp.append(float(0))\n",
        "    A.append(temp)\n",
        "  newrow = []\n",
        "  for i in range(0,len(S)):\n",
        "      newrow.append(0)\n",
        "  # newrow is a list of zeros having same length as S\n",
        "  for i in range(len(u)-len(S)): \n",
        "      A.append(newrow)\n",
        "  return A"
      ]
    },
    {
      "cell_type": "code",
      "execution_count": null,
      "metadata": {
        "id": "WUZmzEIegCqI"
      },
      "outputs": [],
      "source": [
        "def reconstruct(u,s,v,n):\n",
        "  # returns the product of multiply(u, A, v)\n",
        "  A=zero_padding(n,u,s,v)\n",
        "  return np.round(matmul(matmul(u,A),v),decimals=3)\n",
        "    \n",
        "def frobenius(a,a2): \n",
        "  #finds how similar two matrices are\n",
        "  # computes the frobenius norm of a matrix\n",
        "  \n",
        "  temp_1=(a-a2)**2\n",
        "  temp_2=a**2\n",
        "  sum1,sum2=0,0\n",
        "  \n",
        "  for i in (temp_1):\n",
        "      for j in (i):\n",
        "          sum1+=j\n",
        "  for i in (temp_2):\n",
        "      for j in (i):\n",
        "          sum2+=j\n",
        "  ret = math.sqrt(sum1)/math.sqrt(sum2)\n",
        "  return ret "
      ]
    },
    {
      "cell_type": "code",
      "execution_count": null,
      "metadata": {
        "id": "UIXDLtvugdN6"
      },
      "outputs": [],
      "source": [
        "def search(q):\n",
        "  q=remove_unn(q)\n",
        "  q=q.lower().split(\" \")\n",
        "  terms = X.index\n",
        "  \n",
        "  query=[]\n",
        "  for i in terms:\n",
        "    if(i in q):\n",
        "      query.append(1)\n",
        "    else:\n",
        "      query.append(0) \n",
        "  query=np.asarray(query)\n",
        "  if 1 not in query:\n",
        "    print(\"Could not find any documents\")\n",
        "  \n",
        "  else:\n",
        "    k = 3 # as told we are u wsing a consstant value of k not that find_k()\n",
        "    print(\"q\",query)\n",
        "    reconstructed_A = reconstruct(L,S,R,k) \n",
        "    print(reconstructed_A)\n",
        "\n",
        "    score = query.dot(reconstructed_A)\n",
        "    \n",
        "    sort = {}\n",
        "    for i in range(len(score)):\n",
        "      if(score[i]<0):\n",
        "        score[i]=0\n",
        "      sort[i+1] = score[i]\n",
        "    last = {}\n",
        "    for w in sorted(sort, key=sort.get, reverse=True):\n",
        "      last[w]=sort[w]\n",
        "    xAxis=[]\n",
        "    title=\"Document-wise weightage of the string: \"\n",
        "    for i in q: \n",
        "      title=title+\" \"+i\n",
        "    yAxis=[]\n",
        "    \n",
        "    for document,sc in last.items():\n",
        "      print(\"Document: \",document)\n",
        "      xAxis.append(document)\n",
        "      yAxis.append(sc)\n",
        "    \n",
        "    plt.bar(xAxis, yAxis, color ='red',  \n",
        "            width = 0.4) \n",
        "    \n",
        "    plt.xlabel(\"Document number\") \n",
        "    plt.ylabel(\"Relevance-Score\") \n",
        "    plt.title(title) \n",
        "    plt.show() "
      ]
    },
    {
      "cell_type": "code",
      "execution_count": null,
      "metadata": {
        "colab": {
          "background_save": true,
          "base_uri": "https://localhost:8080/",
          "height": 1000
        },
        "id": "kmPdwK3Qg5Q7",
        "outputId": "d07da858-efcb-4017-8816-d9261a6d5147"
      },
      "outputs": [
        {
          "metadata": {
            "tags": null
          },
          "name": "stdout",
          "output_type": "stream",
          "text": [
            "Please choose an option:\n",
            "1: Search keywords \n",
            "2: View Documents \n",
            "3: Exit\n",
            "Enter keyword you want to search\n",
            "\n",
            "Loading your search results...\n",
            "q [0 0 0 0 0 0 0 0 0 0 0 0 0 0 0 0 0 0 0 0 0 0 0 0 0 0 0 0 0 0 0 1 0 0 0 0 0\n",
            " 0 0 0 0 0 0 0 0 0 0 0 0 0 0 0 0 0 0 0 0 0 0 0 0 0 0 0 0 0 0 0 0 0 0 0 0 0\n",
            " 0 0 0 0 0 0 0 0 0 0 0 0 0 0 0 0 0 0 0 0 0 0 0 0 0 0 0 0 0 0 0 0 0 0 0 0 0\n",
            " 0 0 0 0 0 0 0 0 0 0 0 0 0 0 0 0 0 0 0 0 0 0]\n",
            "[[ 0.003  0.002  0.01  -0.006 -0.006]\n",
            " [ 0.006  0.004  0.025 -0.003 -0.003]\n",
            " [-0.004 -0.003  0.004  0.021  0.022]\n",
            " [-0.004 -0.004  0.001  0.022  0.023]\n",
            " [-0.004 -0.003  0.001  0.02   0.021]\n",
            " [-0.004 -0.003  0.001  0.02   0.021]\n",
            " [ 0.008  0.004  0.034  0.001  0.001]\n",
            " [-0.004 -0.003  0.001  0.02   0.021]\n",
            " [ 0.008  0.004  0.034  0.001  0.001]\n",
            " [ 0.002  0.001  0.005 -0.004 -0.004]\n",
            " [ 0.004  0.003  0.01  -0.008 -0.009]\n",
            " [ 0.002  0.001  0.005 -0.004 -0.004]\n",
            " [ 0.008  0.004  0.034  0.001  0.001]\n",
            " [ 0.007  0.005  0.021 -0.011 -0.012]\n",
            " [ 0.003  0.002  0.01  -0.006 -0.006]\n",
            " [ 0.011  0.005  0.059  0.012  0.014]\n",
            " [ 0.003  0.002  0.01  -0.006 -0.006]\n",
            " [ 0.    -0.     0.006  0.005  0.005]\n",
            " [ 0.002  0.001  0.005 -0.004 -0.004]\n",
            " [ 0.002  0.001  0.005 -0.004 -0.004]\n",
            " [-0.004 -0.004  0.001  0.022  0.023]\n",
            " [-0.004 -0.004  0.001  0.022  0.023]\n",
            " [ 0.008  0.004  0.034  0.001  0.001]\n",
            " [ 0.023  0.013  0.103  0.002  0.003]\n",
            " [ 0.002  0.001  0.015  0.004  0.004]\n",
            " [ 0.004  0.003  0.01  -0.008 -0.009]\n",
            " [-0.004 -0.004  0.001  0.022  0.023]\n",
            " [-0.004 -0.003  0.001  0.02   0.021]\n",
            " [-0.004 -0.003  0.001  0.02   0.021]\n",
            " [ 0.008  0.004  0.034  0.001  0.001]\n",
            " [-0.004 -0.004  0.001  0.022  0.023]\n",
            " [ 0.003  0.002  0.01  -0.006 -0.006]\n",
            " [ 0.002  0.001  0.005 -0.004 -0.004]\n",
            " [-0.004 -0.004  0.001  0.022  0.023]\n",
            " [ 0.003  0.002  0.009 -0.006 -0.006]\n",
            " [ 0.    -0.     0.007  0.007  0.007]\n",
            " [ 0.     0.     0.005  0.004  0.004]\n",
            " [ 0.008  0.004  0.034  0.001  0.001]\n",
            " [-0.008 -0.007  0.009  0.051  0.052]\n",
            " [ 0.002  0.001  0.005 -0.004 -0.004]\n",
            " [-0.001 -0.001  0.006  0.009  0.01 ]\n",
            " [ 0.015  0.009  0.069  0.001  0.002]\n",
            " [ 0.003  0.002  0.01  -0.006 -0.006]\n",
            " [-0.005 -0.004  0.001  0.024  0.025]\n",
            " [-0.004 -0.003  0.001  0.02   0.021]\n",
            " [ 0.008  0.004  0.034  0.001  0.001]\n",
            " [ 0.008  0.004  0.034  0.001  0.001]\n",
            " [ 0.002  0.001  0.013  0.006  0.006]\n",
            " [ 0.008  0.004  0.034  0.001  0.001]\n",
            " [-0.004 -0.003  0.001  0.02   0.021]\n",
            " [ 0.002  0.001  0.005 -0.004 -0.004]\n",
            " [ 0.008  0.004  0.034  0.001  0.001]\n",
            " [ 0.008  0.004  0.034  0.001  0.001]\n",
            " [-0.004 -0.004  0.001  0.022  0.023]\n",
            " [-0.004 -0.004  0.001  0.022  0.023]\n",
            " [ 0.003  0.002  0.01  -0.006 -0.006]\n",
            " [-0.004 -0.003  0.001  0.02   0.021]\n",
            " [-0.004 -0.003  0.001  0.02   0.021]\n",
            " [-0.004 -0.004  0.001  0.022  0.023]\n",
            " [ 0.003  0.002  0.01  -0.006 -0.006]\n",
            " [ 0.008  0.004  0.034  0.001  0.001]\n",
            " [-0.004 -0.003  0.001  0.02   0.021]\n",
            " [ 0.003  0.002  0.01  -0.006 -0.006]\n",
            " [-0.004 -0.004  0.001  0.022  0.023]\n",
            " [ 0.002  0.001  0.005 -0.004 -0.004]\n",
            " [-0.004 -0.003  0.001  0.02   0.021]\n",
            " [-0.004 -0.003  0.001  0.02   0.021]\n",
            " [ 0.008  0.004  0.034  0.001  0.001]\n",
            " [-0.004 -0.004  0.001  0.022  0.023]\n",
            " [-0.005 -0.004  0.001  0.024  0.025]\n",
            " [ 0.008  0.004  0.034  0.001  0.001]\n",
            " [-0.004 -0.003  0.001  0.02   0.021]\n",
            " [-0.004 -0.004  0.001  0.022  0.023]\n",
            " [ 0.004  0.002  0.024  0.005  0.006]\n",
            " [ 0.002  0.     0.02   0.013  0.014]\n",
            " [ 0.002  0.001  0.005 -0.004 -0.004]\n",
            " [-0.004 -0.004  0.001  0.022  0.023]\n",
            " [-0.004 -0.003  0.001  0.02   0.021]\n",
            " [ 0.003  0.002  0.01  -0.006 -0.006]\n",
            " [ 0.     0.     0.006  0.005  0.005]\n",
            " [ 0.023  0.013  0.103  0.002  0.003]\n",
            " [-0.004 -0.003  0.001  0.02   0.021]\n",
            " [-0.004 -0.003  0.001  0.02   0.021]\n",
            " [-0.004 -0.003  0.001  0.02   0.021]\n",
            " [ 0.002  0.001  0.005 -0.004 -0.004]\n",
            " [-0.009 -0.007  0.001  0.044  0.046]\n",
            " [ 0.008  0.004  0.034  0.001  0.001]\n",
            " [ 0.015  0.009  0.069  0.001  0.002]\n",
            " [-0.006 -0.005  0.005  0.032  0.033]\n",
            " [ 0.002  0.001  0.005 -0.004 -0.004]\n",
            " [ 0.003  0.002  0.01  -0.006 -0.006]\n",
            " [ 0.008  0.004  0.034  0.001  0.001]\n",
            " [-0.004 -0.003  0.001  0.02   0.021]\n",
            " [ 0.002  0.001  0.005 -0.004 -0.004]\n",
            " [ 0.003  0.002  0.01  -0.006 -0.006]\n",
            " [ 0.003  0.002  0.01  -0.006 -0.006]\n",
            " [ 0.006  0.004  0.025 -0.003 -0.003]\n",
            " [-0.004 -0.004  0.001  0.022  0.023]\n",
            " [ 0.003  0.002  0.01  -0.006 -0.006]\n",
            " [-0.004 -0.003  0.001  0.02   0.021]\n",
            " [ 0.003  0.002  0.01  -0.006 -0.006]\n",
            " [ 0.002  0.001  0.005 -0.004 -0.004]\n",
            " [-0.004 -0.003  0.001  0.02   0.021]\n",
            " [ 0.008  0.004  0.034  0.001  0.001]\n",
            " [ 0.003  0.002  0.01  -0.006 -0.006]\n",
            " [ 0.008  0.004  0.034  0.001  0.001]\n",
            " [-0.001 -0.001  0.003  0.01   0.011]\n",
            " [-0.004 -0.004  0.001  0.022  0.023]\n",
            " [-0.004 -0.003  0.001  0.02   0.021]\n",
            " [ 0.003  0.002  0.01  -0.006 -0.006]\n",
            " [-0.004 -0.004  0.001  0.022  0.023]\n",
            " [-0.004 -0.004  0.001  0.022  0.023]\n",
            " [-0.004 -0.003  0.001  0.02   0.021]\n",
            " [-0.004 -0.003  0.001  0.02   0.021]\n",
            " [-0.008 -0.006  0.002  0.04   0.042]\n",
            " [ 0.002  0.001  0.005 -0.004 -0.004]\n",
            " [-0.004 -0.003  0.001  0.02   0.021]\n",
            " [ 0.004  0.003  0.01  -0.008 -0.009]\n",
            " [ 0.008  0.004  0.034  0.001  0.001]\n",
            " [-0.005 -0.004  0.001  0.024  0.025]\n",
            " [-0.004 -0.003  0.001  0.02   0.021]\n",
            " [ 0.002  0.001  0.005 -0.004 -0.004]\n",
            " [ 0.008  0.004  0.034  0.001  0.001]\n",
            " [ 0.003  0.002  0.01  -0.006 -0.006]\n",
            " [ 0.015  0.009  0.069  0.001  0.002]\n",
            " [-0.004 -0.003  0.001  0.02   0.021]\n",
            " [ 0.002  0.001  0.005 -0.004 -0.004]\n",
            " [-0.004 -0.003  0.001  0.02   0.021]\n",
            " [-0.004 -0.003  0.001  0.02   0.021]\n",
            " [-0.001 -0.001  0.003  0.01   0.011]\n",
            " [ 0.003  0.002  0.01  -0.006 -0.006]\n",
            " [ 0.003  0.002  0.01  -0.006 -0.006]\n",
            " [ 0.003  0.002  0.01  -0.006 -0.006]]\n",
            "Document:  3\n",
            "Document:  1\n",
            "Document:  2\n",
            "Document:  4\n",
            "Document:  5\n"
          ]
        },
        {
          "data": {
            "image/png": "[encoded data removed]",
            "text/plain": [
              "<Figure size 432x288 with 1 Axes>"
            ]
          },
          "metadata": {},
          "output_type": "display_data"
        },
        {
          "metadata": {
            "tags": null
          },
          "name": "stdout",
          "output_type": "stream",
          "text": [
            "\n",
            "\n",
            "Please choose an option:\n",
            "1: Search keywords \n",
            "2: View Documents \n",
            "3: Exit\n"
          ]
        }
      ],
      "source": [
        "while(1):\n",
        "    print(\"Please choose an option:\\n\"\n",
        "    + \"1: Search keywords \\n\"\n",
        "    + \"2: View Documents \\n\"\n",
        "    + \"3: Exit\")\n",
        "    opt = int(input())\n",
        "    if(opt == 1):\n",
        "        print(\"Enter keyword you want to search\\n\")\n",
        "        s = input()\n",
        "        print(\"Loading your search results...\")\n",
        "        search(s)\n",
        "        print(\"\\n\")\n",
        "    elif (opt == 2):\n",
        "        print(\"Enter Document number:\\n\\n\")\n",
        "        doc_n = int(input())\n",
        "\n",
        "        if(doc_n>len(store)):\n",
        "            print(\"There are only \",len(store),\" documents\")\n",
        "            continue\n",
        "        print(store[doc_n - 1])\n",
        "        print(\"\\n\")\n",
        "    elif( opt == 3):\n",
        "        print(\"THANK YOU\")\n",
        "        exit()\n",
        "        break\n",
        "    else:\n",
        "        print(\"Enter valid input. \")"
      ]
    },
    {
      "cell_type": "code",
      "execution_count": null,
      "metadata": {
        "id": "0daEn7rMg8Ri"
      },
      "outputs": [],
      "source": [
        "+"
      ]
    }
  ],
  "metadata": {
    "colab": {
      "collapsed_sections": [],
      "name": "Latent Semantic Indexing.ipynb",
      "provenance": []
    },
    "kernelspec": {
      "display_name": "Python 3",
      "name": "python3"
    },
    "language_info": {
      "name": "python"
    }
  },
  "nbformat": 4,
  "nbformat_minor": 0
}